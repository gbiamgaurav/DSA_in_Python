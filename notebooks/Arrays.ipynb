{
 "cells": [
  {
   "cell_type": "markdown",
   "metadata": {},
   "source": [
    "# Arrays"
   ]
  },
  {
   "cell_type": "code",
   "execution_count": 2,
   "metadata": {},
   "outputs": [],
   "source": [
    "from array import *"
   ]
  },
  {
   "cell_type": "code",
   "execution_count": 3,
   "metadata": {},
   "outputs": [
    {
     "name": "stdout",
     "output_type": "stream",
     "text": [
      "array('i', [1, 2, 3, 4, 5])\n"
     ]
    }
   ],
   "source": [
    "# Create an array \n",
    "\n",
    "my_array = array('i', [1, 2, 3, 4, 5])\n",
    "\n",
    "print(my_array)"
   ]
  },
  {
   "cell_type": "code",
   "execution_count": 4,
   "metadata": {},
   "outputs": [
    {
     "data": {
      "text/plain": [
       "array.array"
      ]
     },
     "execution_count": 4,
     "metadata": {},
     "output_type": "execute_result"
    }
   ],
   "source": [
    "type(my_array)"
   ]
  },
  {
   "cell_type": "code",
   "execution_count": 5,
   "metadata": {},
   "outputs": [
    {
     "name": "stdout",
     "output_type": "stream",
     "text": [
      "1\n",
      "2\n",
      "3\n",
      "4\n",
      "5\n"
     ]
    }
   ],
   "source": [
    "# traverse through an array\n",
    "\n",
    "for i in my_array:\n",
    "    print(i)"
   ]
  },
  {
   "cell_type": "code",
   "execution_count": 7,
   "metadata": {},
   "outputs": [
    {
     "name": "stdout",
     "output_type": "stream",
     "text": [
      "4\n"
     ]
    }
   ],
   "source": [
    "# access individual elements indexes\n",
    "\n",
    "print(my_array[3])"
   ]
  },
  {
   "cell_type": "code",
   "execution_count": 8,
   "metadata": {},
   "outputs": [
    {
     "name": "stdout",
     "output_type": "stream",
     "text": [
      "array('i', [1, 2, 3, 4, 5, 25])\n"
     ]
    }
   ],
   "source": [
    "# append any value to the array using append()\n",
    "\n",
    "my_array.append(25)\n",
    "\n",
    "print(my_array)"
   ]
  },
  {
   "cell_type": "code",
   "execution_count": 9,
   "metadata": {},
   "outputs": [
    {
     "name": "stdout",
     "output_type": "stream",
     "text": [
      "array('i', [30, 1, 2, 3, 4, 5, 25])\n"
     ]
    }
   ],
   "source": [
    "# insert vale in an array using insert()\n",
    "\n",
    "my_array.insert(0, 30)\n",
    "\n",
    "print(my_array)"
   ]
  },
  {
   "cell_type": "code",
   "execution_count": 11,
   "metadata": {},
   "outputs": [
    {
     "name": "stdout",
     "output_type": "stream",
     "text": [
      "array('i', [30, 1, 2, 3, 4, 5, 25, 10, 11, 12])\n"
     ]
    }
   ],
   "source": [
    "# extend python array using extend()\n",
    "\n",
    "my_array1 = array('i', [10, 11, 12])\n",
    "\n",
    "my_array.extend(my_array1)\n",
    "print(my_array)"
   ]
  },
  {
   "cell_type": "code",
   "execution_count": 12,
   "metadata": {},
   "outputs": [
    {
     "name": "stdout",
     "output_type": "stream",
     "text": [
      "array('i', [30, 1, 2, 3, 4, 5, 25, 10, 11, 12, 20, 21, 22])\n"
     ]
    }
   ],
   "source": [
    "# add items from list into array using fromlist()\n",
    "\n",
    "tempList = [20, 21, 22]\n",
    "\n",
    "my_array.fromlist(tempList)\n",
    "print(my_array)"
   ]
  },
  {
   "cell_type": "code",
   "execution_count": 14,
   "metadata": {},
   "outputs": [
    {
     "name": "stdout",
     "output_type": "stream",
     "text": [
      "array('i', [30, 1, 2, 3, 4, 5, 25, 10, 11, 12, 20, 21])\n"
     ]
    }
   ],
   "source": [
    "# remove any array element using remove()\n",
    "\n",
    "my_array.remove(22)\n",
    "print(my_array)"
   ]
  },
  {
   "cell_type": "code",
   "execution_count": 15,
   "metadata": {},
   "outputs": [
    {
     "name": "stdout",
     "output_type": "stream",
     "text": [
      "array('i', [30, 1, 2, 3, 4, 5, 25, 10, 11, 12, 20])\n"
     ]
    }
   ],
   "source": [
    "# remove last array element using pop()\n",
    "\n",
    "my_array.pop()\n",
    "print(my_array)"
   ]
  },
  {
   "cell_type": "code",
   "execution_count": 17,
   "metadata": {},
   "outputs": [
    {
     "name": "stdout",
     "output_type": "stream",
     "text": [
      "8\n"
     ]
    }
   ],
   "source": [
    "# fetch an element through its index using index()\n",
    "\n",
    "my_array.index(11)\n",
    "print(my_array.index(11))"
   ]
  },
  {
   "cell_type": "code",
   "execution_count": 18,
   "metadata": {},
   "outputs": [
    {
     "name": "stdout",
     "output_type": "stream",
     "text": [
      "array('i', [20, 12, 11, 10, 25, 5, 4, 3, 2, 1, 30])\n"
     ]
    }
   ],
   "source": [
    "# reverse a python array using reverse()\n",
    "\n",
    "my_array.reverse()\n",
    "print(my_array)"
   ]
  },
  {
   "cell_type": "code",
   "execution_count": 19,
   "metadata": {},
   "outputs": [
    {
     "name": "stdout",
     "output_type": "stream",
     "text": [
      "(2371738645040, 11)\n"
     ]
    }
   ],
   "source": [
    "# get array buffer information through buffer_info() \n",
    "\n",
    "print(my_array.buffer_info())"
   ]
  },
  {
   "cell_type": "code",
   "execution_count": 20,
   "metadata": {
    "scrolled": true
   },
   "outputs": [
    {
     "name": "stdout",
     "output_type": "stream",
     "text": [
      "array('i', [20, 12, 11, 10, 25, 5, 4, 3, 2, 1, 30, 11])\n"
     ]
    },
    {
     "data": {
      "text/plain": [
       "2"
      ]
     },
     "execution_count": 20,
     "metadata": {},
     "output_type": "execute_result"
    }
   ],
   "source": [
    "# check for number of occurences of an element using count()\n",
    "\n",
    "my_array.append(11)\n",
    "print(my_array)\n",
    "my_array.count(11)"
   ]
  },
  {
   "cell_type": "code",
   "execution_count": 24,
   "metadata": {},
   "outputs": [
    {
     "name": "stdout",
     "output_type": "stream",
     "text": [
      "array('i', [20, 12, 11, 10, 25, 5, 4, 3, 2, 1, 30, 11])\n",
      "<class 'array.array'>\n"
     ]
    }
   ],
   "source": [
    "# convert array to string using tostring()\n",
    "\n",
    "str_array = my_array.tobytes()\n",
    "\n",
    "ints = array('i')\n",
    "\n",
    "ints.frombytes(str_array)\n",
    "print(ints)\n",
    "print(type(ints))"
   ]
  },
  {
   "cell_type": "code",
   "execution_count": 26,
   "metadata": {},
   "outputs": [
    {
     "name": "stdout",
     "output_type": "stream",
     "text": [
      "<class 'list'>\n",
      "[20, 12, 11, 10, 25, 5, 4, 3, 2, 1, 30, 11]\n"
     ]
    }
   ],
   "source": [
    "# convert array to a python list with same elements using tolist() \n",
    "\n",
    "lst_array = my_array.tolist()\n",
    "print(type(lst_array))\n",
    "print(lst_array)"
   ]
  },
  {
   "cell_type": "code",
   "execution_count": 27,
   "metadata": {},
   "outputs": [
    {
     "name": "stdout",
     "output_type": "stream",
     "text": [
      "array('i', [12, 11, 10])\n"
     ]
    }
   ],
   "source": [
    "# Slice elements from an array \n",
    "\n",
    "print(my_array[1:4])"
   ]
  },
  {
   "cell_type": "code",
   "execution_count": 28,
   "metadata": {},
   "outputs": [
    {
     "data": {
      "text/plain": [
       "array('i', [20, 12, 11, 10, 25, 5, 4, 3, 2, 1, 30, 11])"
      ]
     },
     "execution_count": 28,
     "metadata": {},
     "output_type": "execute_result"
    }
   ],
   "source": [
    "my_array"
   ]
  },
  {
   "cell_type": "markdown",
   "metadata": {},
   "source": [
    "# Two Dimensional Arrays"
   ]
  },
  {
   "cell_type": "code",
   "execution_count": 1,
   "metadata": {},
   "outputs": [
    {
     "name": "stdout",
     "output_type": "stream",
     "text": [
      "<class 'numpy.ndarray'>\n"
     ]
    }
   ],
   "source": [
    "# create a 2 dim array\n",
    "\n",
    "import numpy as np \n",
    "\n",
    "arr = np.array([[11, 15, 10, 6], [10, 14, 11, 5], [12, 17, 12, 8], [15, 18, 14, 9]])\n",
    "\n",
    "print(type(arr))"
   ]
  },
  {
   "cell_type": "code",
   "execution_count": 2,
   "metadata": {},
   "outputs": [
    {
     "data": {
      "text/plain": [
       "array([[11, 15, 10,  6],\n",
       "       [10, 14, 11,  5],\n",
       "       [12, 17, 12,  8],\n",
       "       [15, 18, 14,  9]])"
      ]
     },
     "execution_count": 2,
     "metadata": {},
     "output_type": "execute_result"
    }
   ],
   "source": [
    "arr"
   ]
  },
  {
   "cell_type": "code",
   "execution_count": 3,
   "metadata": {},
   "outputs": [
    {
     "name": "stdout",
     "output_type": "stream",
     "text": [
      "[[ 1 11 15 10  6]\n",
      " [ 2 10 14 11  5]\n",
      " [ 3 12 17 12  8]\n",
      " [ 4 15 18 14  9]]\n"
     ]
    }
   ],
   "source": [
    "# insertion \n",
    "\n",
    "new_arr = np.insert(arr, 0, [[1, 2, 3, 4]], axis=1)\n",
    "\n",
    "print(new_arr)"
   ]
  },
  {
   "cell_type": "code",
   "execution_count": 4,
   "metadata": {},
   "outputs": [
    {
     "name": "stdout",
     "output_type": "stream",
     "text": [
      "[[ 1  2  3  4]\n",
      " [11 15 10  6]\n",
      " [10 14 11  5]\n",
      " [12 17 12  8]\n",
      " [15 18 14  9]]\n"
     ]
    }
   ],
   "source": [
    "new_arr1 = np.insert(arr, 0, [[1, 2, 3, 4]], axis=0)\n",
    "\n",
    "print(new_arr1)"
   ]
  },
  {
   "cell_type": "code",
   "execution_count": 5,
   "metadata": {},
   "outputs": [
    {
     "name": "stdout",
     "output_type": "stream",
     "text": [
      "[[11 15 10  6]\n",
      " [ 4  5  6  7]\n",
      " [10 14 11  5]\n",
      " [12 17 12  8]\n",
      " [15 18 14  9]]\n"
     ]
    }
   ],
   "source": [
    "new_arr2 = np.insert(arr, 1, [[4, 5, 6, 7]], axis=0)\n",
    "\n",
    "print(new_arr2)"
   ]
  },
  {
   "cell_type": "code",
   "execution_count": 7,
   "metadata": {},
   "outputs": [
    {
     "data": {
      "text/plain": [
       "array([[11, 15, 10,  6],\n",
       "       [10, 14, 11,  5],\n",
       "       [12, 17, 12,  8],\n",
       "       [15, 18, 14,  9],\n",
       "       [ 4,  5,  6,  7]])"
      ]
     },
     "execution_count": 7,
     "metadata": {},
     "output_type": "execute_result"
    }
   ],
   "source": [
    "new_arr3 = np.append(arr, [[4, 5, 6, 7]], axis=0)\n",
    "new_arr3"
   ]
  },
  {
   "cell_type": "code",
   "execution_count": 9,
   "metadata": {},
   "outputs": [
    {
     "name": "stdout",
     "output_type": "stream",
     "text": [
      "11\n"
     ]
    }
   ],
   "source": [
    "# accessing element from 2 dim array\n",
    "\n",
    "def access_elements(arr, rowindex, colindex):\n",
    "    if rowindex >= len(arr) and colindex >= len(arr[0]):\n",
    "        print(\"Incorrect index\")\n",
    "    else:\n",
    "        print(arr[rowindex, colindex])\n",
    "\n",
    "access_elements(arr, 1, 2)"
   ]
  },
  {
   "cell_type": "code",
   "execution_count": 13,
   "metadata": {},
   "outputs": [
    {
     "name": "stdout",
     "output_type": "stream",
     "text": [
      "[[11 15 10  6]\n",
      " [10 14 11  5]\n",
      " [12 17 12  8]\n",
      " [15 18 14  9]]\n",
      "8\n"
     ]
    }
   ],
   "source": [
    "print(arr)\n",
    "access_elements(arr, 2, 3)"
   ]
  },
  {
   "cell_type": "code",
   "execution_count": 16,
   "metadata": {},
   "outputs": [
    {
     "name": "stdout",
     "output_type": "stream",
     "text": [
      "[[11 15 10  6]\n",
      " [10 14 11  5]\n",
      " [12 17 12  8]\n",
      " [15 18 14  9]]\n",
      ".................\n",
      "11\n",
      "15\n",
      "10\n",
      "6\n",
      "10\n",
      "14\n",
      "11\n",
      "5\n",
      "12\n",
      "17\n",
      "12\n",
      "8\n",
      "15\n",
      "18\n",
      "14\n",
      "9\n"
     ]
    }
   ],
   "source": [
    "# traversal of 2 dim array\n",
    "\n",
    "def traverse_array(arr):\n",
    "    for i in range(len(arr)):\n",
    "        for j in range(len(arr[0])):\n",
    "            print(arr[i][j])\n",
    "\n",
    "\n",
    "print(arr)\n",
    "\n",
    "print(\".................\")\n",
    "\n",
    "traverse_array(arr)"
   ]
  },
  {
   "cell_type": "code",
   "execution_count": null,
   "metadata": {},
   "outputs": [],
   "source": []
  },
  {
   "cell_type": "code",
   "execution_count": null,
   "metadata": {},
   "outputs": [],
   "source": []
  },
  {
   "cell_type": "code",
   "execution_count": null,
   "metadata": {},
   "outputs": [],
   "source": []
  },
  {
   "cell_type": "code",
   "execution_count": null,
   "metadata": {},
   "outputs": [],
   "source": []
  }
 ],
 "metadata": {
  "kernelspec": {
   "display_name": "Python 3 (ipykernel)",
   "language": "python",
   "name": "python3"
  },
  "language_info": {
   "codemirror_mode": {
    "name": "ipython",
    "version": 3
   },
   "file_extension": ".py",
   "mimetype": "text/x-python",
   "name": "python",
   "nbconvert_exporter": "python",
   "pygments_lexer": "ipython3",
   "version": "3.11.0"
  },
  "widgets": {
   "application/vnd.jupyter.widget-state+json": {
    "state": {},
    "version_major": 2,
    "version_minor": 0
   }
  }
 },
 "nbformat": 4,
 "nbformat_minor": 4
}
